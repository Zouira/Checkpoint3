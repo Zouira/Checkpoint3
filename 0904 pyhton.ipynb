{
 "cells": [
  {
   "cell_type": "code",
   "execution_count": 1,
   "id": "5a5d8e4e",
   "metadata": {},
   "outputs": [],
   "source": [
    "import math"
   ]
  },
  {
   "cell_type": "code",
   "execution_count": 10,
   "id": "ab9feae1",
   "metadata": {},
   "outputs": [],
   "source": [
    "def hypothenus(a, b):\n",
    "    c = math.sqrt((a**2) + (b**2))\n",
    "    return c"
   ]
  },
  {
   "cell_type": "code",
   "execution_count": 20,
   "id": "279b5514",
   "metadata": {},
   "outputs": [],
   "source": [
    "h = lambda a, b: math.sqrt((a**2) + (b**2))"
   ]
  },
  {
   "cell_type": "code",
   "execution_count": 11,
   "id": "cb0abb38",
   "metadata": {},
   "outputs": [
    {
     "data": {
      "text/plain": [
       "5.0"
      ]
     },
     "execution_count": 11,
     "metadata": {},
     "output_type": "execute_result"
    }
   ],
   "source": [
    "hypothenus(3, 4)"
   ]
  },
  {
   "cell_type": "code",
   "execution_count": null,
   "id": "c24a696c",
   "metadata": {},
   "outputs": [],
   "source": [
    "lambda x: x.upper()"
   ]
  },
  {
   "cell_type": "code",
   "execution_count": 24,
   "id": "5b1d8798",
   "metadata": {},
   "outputs": [],
   "source": [
    "x = h(1, 4)"
   ]
  },
  {
   "cell_type": "code",
   "execution_count": 25,
   "id": "27f648fb",
   "metadata": {},
   "outputs": [
    {
     "name": "stdout",
     "output_type": "stream",
     "text": [
      "4.123105625617661\n",
      "8.246211251235321\n"
     ]
    }
   ],
   "source": [
    "print(x)\n",
    "print(x*2)"
   ]
  },
  {
   "cell_type": "code",
   "execution_count": 18,
   "id": "967b8aac",
   "metadata": {},
   "outputs": [
    {
     "name": "stdout",
     "output_type": "stream",
     "text": [
      "Majeur\n"
     ]
    }
   ],
   "source": [
    "def f(age=18):\n",
    "    if age > 18:\n",
    "        print(\"Majeur\")\n",
    "    else:\n",
    "        print(\"Mineur\")\n",
    "        \n",
    "f(18)"
   ]
  },
  {
   "cell_type": "code",
   "execution_count": 30,
   "id": "e59738bf",
   "metadata": {},
   "outputs": [
    {
     "data": {
      "text/plain": [
       "['2020', '03', '10']"
      ]
     },
     "execution_count": 30,
     "metadata": {},
     "output_type": "execute_result"
    }
   ],
   "source": [
    "date = \"2020/03/10\"\n",
    "date.split('/')"
   ]
  },
  {
   "cell_type": "code",
   "execution_count": 32,
   "id": "2510c754",
   "metadata": {},
   "outputs": [
    {
     "data": {
      "text/plain": [
       "[1.0,\n",
       " 0.5,\n",
       " 0.3333333333333333,\n",
       " 0.25,\n",
       " 0.2,\n",
       " 0.16666666666666666,\n",
       " 0.14285714285714285,\n",
       " 0.125,\n",
       " 0.1111111111111111,\n",
       " 0.1]"
      ]
     },
     "execution_count": 32,
     "metadata": {},
     "output_type": "execute_result"
    }
   ],
   "source": [
    "[1/x for x in range(1, 11)]"
   ]
  },
  {
   "cell_type": "code",
   "execution_count": 36,
   "id": "101169cb",
   "metadata": {},
   "outputs": [
    {
     "data": {
      "text/plain": [
       "[6, 8, 10, 12, 14, 16, 18, 20, 22, 24]"
      ]
     },
     "execution_count": 36,
     "metadata": {},
     "output_type": "execute_result"
    }
   ],
   "source": [
    "list(map(lambda x, y: (x+y), range(1, 11), range(5, 15)))"
   ]
  },
  {
   "cell_type": "code",
   "execution_count": 40,
   "id": "794d462a",
   "metadata": {},
   "outputs": [
    {
     "data": {
      "text/plain": [
       "[6, 8, 10, 12, 14, 16, 18, 20, 22, 24]"
      ]
     },
     "execution_count": 40,
     "metadata": {},
     "output_type": "execute_result"
    }
   ],
   "source": [
    "[x+y for x, y in zip(range(1, 11), range(5, 15))]"
   ]
  },
  {
   "cell_type": "code",
   "execution_count": 41,
   "id": "6125297c",
   "metadata": {},
   "outputs": [
    {
     "data": {
      "text/plain": [
       "[(1, 5), (2, 6), (3, 7), (4, 8), (5, 9), (6, 10), (7, 11)]"
      ]
     },
     "execution_count": 41,
     "metadata": {},
     "output_type": "execute_result"
    }
   ],
   "source": [
    "list(zip(range(1, 11), range(5, 12)))"
   ]
  },
  {
   "cell_type": "code",
   "execution_count": 43,
   "id": "3a5efb71",
   "metadata": {},
   "outputs": [
    {
     "data": {
      "text/plain": [
       "2"
      ]
     },
     "execution_count": 43,
     "metadata": {},
     "output_type": "execute_result"
    }
   ],
   "source": [
    "min([2, 5])"
   ]
  },
  {
   "cell_type": "code",
   "execution_count": 44,
   "id": "c463a956",
   "metadata": {},
   "outputs": [],
   "source": [
    "def listsum(l):\n",
    "    S = 0\n",
    "    for x in l:\n",
    "        S = S + x\n",
    "        \n",
    "    return S\n",
    "\n",
    "def listmul(l):\n",
    "    S = 1\n",
    "    for x in l:\n",
    "        S = S * x\n",
    "        \n",
    "    return S"
   ]
  },
  {
   "cell_type": "code",
   "execution_count": 51,
   "id": "c35d2257",
   "metadata": {},
   "outputs": [
    {
     "data": {
      "text/plain": [
       "(16, 48)"
      ]
     },
     "execution_count": 51,
     "metadata": {},
     "output_type": "execute_result"
    }
   ],
   "source": [
    "l = [1, 2, 3, 4, 5, 6, 7]\n",
    "\n",
    "impair_l = [l[i] for i in range(len(l)) if i%2 == 1]\n",
    "pair_l = [l[i] for i in range(len(l)) if i%2 == 0]\n",
    "listsum(pair_l), listmul(impair_l)"
   ]
  },
  {
   "cell_type": "code",
   "execution_count": 82,
   "id": "002fb50f",
   "metadata": {},
   "outputs": [
    {
     "data": {
      "text/plain": [
       "'black-green-red-white-yellow'"
      ]
     },
     "execution_count": 82,
     "metadata": {},
     "output_type": "execute_result"
    }
   ],
   "source": [
    "s = \"green-red-yellow-black-white\"\n",
    "slist = sorted(s.split(\"-\"))\n",
    "'-'.join(slist)"
   ]
  },
  {
   "cell_type": "code",
   "execution_count": 72,
   "id": "a43f0303",
   "metadata": {},
   "outputs": [
    {
     "name": "stdout",
     "output_type": "stream",
     "text": [
      "Donner une sequence de nombres100,150,180,200\n"
     ]
    },
    {
     "data": {
      "text/plain": [
       "[18, 22, 24, 26]"
      ]
     },
     "execution_count": 72,
     "metadata": {},
     "output_type": "execute_result"
    }
   ],
   "source": [
    "q = lambda c, h, d: math.sqrt((2*c*d)/h)\n",
    "c = 50\n",
    "h = 30\n",
    "d = input(\"Donner une sequence de nombres\")\n",
    "d = [int(x) for x in d.split(\",\")]\n",
    "[round(q(c, h, x)) for x in d]"
   ]
  },
  {
   "cell_type": "code",
   "execution_count": null,
   "id": "759661bc",
   "metadata": {},
   "outputs": [],
   "source": []
  }
 ],
 "metadata": {
  "kernelspec": {
   "display_name": "Python 3 (ipykernel)",
   "language": "python",
   "name": "python3"
  },
  "language_info": {
   "codemirror_mode": {
    "name": "ipython",
    "version": 3
   },
   "file_extension": ".py",
   "mimetype": "text/x-python",
   "name": "python",
   "nbconvert_exporter": "python",
   "pygments_lexer": "ipython3",
   "version": "3.9.7"
  }
 },
 "nbformat": 4,
 "nbformat_minor": 5
}
